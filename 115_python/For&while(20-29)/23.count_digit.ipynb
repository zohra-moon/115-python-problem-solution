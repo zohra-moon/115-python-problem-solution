{
 "cells": [
  {
   "cell_type": "code",
   "execution_count": null,
   "id": "88a11f9f-e435-4380-b574-6988ffeabe8d",
   "metadata": {},
   "outputs": [],
   "source": [
    "N= int(input(\"Enter a number\"))\n",
    "i=0\n",
    "if N<0:\n",
    "    N=-1*N\n",
    "if N==0:\n",
    "    i==1\n",
    "while N!=0:\n",
    "    N=N//10\n",
    "    ct+=1\n",
    "    print(\"th\")\n",
    "    \n",
    "    "
   ]
  }
 ],
 "metadata": {
  "kernelspec": {
   "display_name": "Python 3 (ipykernel)",
   "language": "python",
   "name": "python3"
  },
  "language_info": {
   "codemirror_mode": {
    "name": "ipython",
    "version": 3
   },
   "file_extension": ".py",
   "mimetype": "text/x-python",
   "name": "python",
   "nbconvert_exporter": "python",
   "pygments_lexer": "ipython3",
   "version": "3.10.12"
  }
 },
 "nbformat": 4,
 "nbformat_minor": 5
}
