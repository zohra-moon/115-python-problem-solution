{
 "cells": [
  {
   "cell_type": "code",
   "execution_count": 2,
   "id": "0e72575e-2c7b-41ef-9251-ca3ae1b9b51e",
   "metadata": {},
   "outputs": [
    {
     "name": "stdin",
     "output_type": "stream",
     "text": [
      "Enter the number of element in the list:  6\n",
      "Enter the element:  2\n",
      "Enter the element:  5\n",
      "Enter the element:  9\n",
      "Enter the element:  7\n",
      "Enter the element:  3\n",
      "Enter the element:  6\n"
     ]
    },
    {
     "name": "stdout",
     "output_type": "stream",
     "text": [
      "The sum of the numbers is:  32\n",
      "The minimum element is:  2\n",
      "The maximum element is:  9\n",
      "The average of the numbers is:  5.333333333333333\n"
     ]
    }
   ],
   "source": [
    "n = int(input(\"Enter the number of element in the list: \"))\n",
    "li = list()\n",
    "for i in range(n):\n",
    "    element= int(input(\"Enter the element: \"))\n",
    "    li.append(element)\n",
    "Sum= sum(li)\n",
    "Min= min(li)\n",
    "Max= max(li)\n",
    "Avg= Sum/ len(li)\n",
    "\n",
    "print(\"The sum of the numbers is: \",Sum)\n",
    "print(\"The minimum element is: \", Min)\n",
    "print(\"The maximum element is: \", Max)\n",
    "print(\"The average of the numbers is: \", Avg)"
   ]
  },
  {
   "cell_type": "code",
   "execution_count": null,
   "id": "822c331a-289e-4938-9591-801d2bdbedef",
   "metadata": {},
   "outputs": [],
   "source": []
  }
 ],
 "metadata": {
  "kernelspec": {
   "display_name": "Python 3 (ipykernel)",
   "language": "python",
   "name": "python3"
  },
  "language_info": {
   "codemirror_mode": {
    "name": "ipython",
    "version": 3
   },
   "file_extension": ".py",
   "mimetype": "text/x-python",
   "name": "python",
   "nbconvert_exporter": "python",
   "pygments_lexer": "ipython3",
   "version": "3.10.12"
  }
 },
 "nbformat": 4,
 "nbformat_minor": 5
}
