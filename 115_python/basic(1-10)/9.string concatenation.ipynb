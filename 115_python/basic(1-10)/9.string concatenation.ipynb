{
 "cells": [
  {
   "cell_type": "code",
   "execution_count": 2,
   "id": "cbed56ea",
   "metadata": {},
   "outputs": [
    {
     "name": "stdout",
     "output_type": "stream",
     "text": [
      "input 1st string:good\n",
      "input 2nd string:morning\n",
      "string concatenation: good morning\n"
     ]
    }
   ],
   "source": [
    "s1= input(\"input 1st string:\")\n",
    "s2= input(\"input 2nd string:\")\n",
    "concatenation = f'{s1} {s2}'\n",
    "print(\"string concatenation:\", concatenation)"
   ]
  },
  {
   "cell_type": "code",
   "execution_count": null,
   "id": "855f0310",
   "metadata": {},
   "outputs": [],
   "source": []
  }
 ],
 "metadata": {
  "kernelspec": {
   "display_name": "Python 3 (ipykernel)",
   "language": "python",
   "name": "python3"
  },
  "language_info": {
   "codemirror_mode": {
    "name": "ipython",
    "version": 3
   },
   "file_extension": ".py",
   "mimetype": "text/x-python",
   "name": "python",
   "nbconvert_exporter": "python",
   "pygments_lexer": "ipython3",
   "version": "3.11.5"
  }
 },
 "nbformat": 4,
 "nbformat_minor": 5
}
