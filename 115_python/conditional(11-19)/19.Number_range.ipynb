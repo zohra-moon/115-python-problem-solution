{
 "cells": [
  {
   "cell_type": "code",
   "execution_count": 1,
   "id": "028bf075-f5af-4669-b5a3-733020d7c563",
   "metadata": {},
   "outputs": [
    {
     "ename": "IndentationError",
     "evalue": "unexpected indent (431925562.py, line 9)",
     "output_type": "error",
     "traceback": [
      "\u001b[0;36m  Cell \u001b[0;32mIn[1], line 9\u001b[0;36m\u001b[0m\n\u001b[0;31m    print(\"The number is greater than 150\")\u001b[0m\n\u001b[0m    ^\u001b[0m\n\u001b[0;31mIndentationError\u001b[0m\u001b[0;31m:\u001b[0m unexpected indent\n"
     ]
    }
   ],
   "source": [
    "N= int(input(\"Enter an Integer: \"))\n",
    "if N>=0 and N<=50:\n",
    "    print (\"The number falls within the range 0-50\")\n",
    "elif N>=51 and N<= 100:\n",
    "    print(\"The number falls within the range 51-100\")\n",
    "elif N>=101 and N<= 150:\n",
    "    print(\"The number falls within the range 100-150\")\n",
    "else:er\n",
    "    print(\"The number is greater than 150\")"
   ]
  },
  {
   "cell_type": "code",
   "execution_count": null,
   "id": "43d34070-aef0-4138-9502-89199e54f8d0",
   "metadata": {},
   "outputs": [],
   "source": []
  }
 ],
 "metadata": {
  "kernelspec": {
   "display_name": "Python 3 (ipykernel)",
   "language": "python",
   "name": "python3"
  },
  "language_info": {
   "codemirror_mode": {
    "name": "ipython",
    "version": 3
   },
   "file_extension": ".py",
   "mimetype": "text/x-python",
   "name": "python",
   "nbconvert_exporter": "python",
   "pygments_lexer": "ipython3",
   "version": "3.10.12"
  }
 },
 "nbformat": 4,
 "nbformat_minor": 5
}
