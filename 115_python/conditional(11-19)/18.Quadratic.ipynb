{
 "cells": [
  {
   "cell_type": "code",
   "execution_count": null,
   "id": "5e55238d-9fd2-4aff-84ad-7dd758e7e5f4",
   "metadata": {},
   "outputs": [
    {
     "name": "stdin",
     "output_type": "stream",
     "text": [
      "Enter a (a!=0):  1\n"
     ]
    }
   ],
   "source": [
    "import cmath\n",
    "a= int(input(\"Enter a (a!=0): \"))\n",
    "b= int(input(\"Enter b: \"))\n",
    "c= int(input(\"Enter c: \"))\n",
    "d= (b**2)-(4*a*c)\n",
    "sol1= -b- cmath.sqrt(d) /(2*a)\n",
    "sol1= -b+ cmath.sqrt(d) /(2*a)\n",
    "if d>=0:\n",
    "    print(f\"The roots of the quadretic equation are {sol1} and {sol2}\")\n",
    "else:\n",
    "    print(\"The roots are complex\")"
   ]
  },
  {
   "cell_type": "code",
   "execution_count": null,
   "id": "90d7d8fe-3114-474c-9e64-f6e59f04ee3a",
   "metadata": {},
   "outputs": [],
   "source": []
  }
 ],
 "metadata": {
  "kernelspec": {
   "display_name": "Python 3 (ipykernel)",
   "language": "python",
   "name": "python3"
  },
  "language_info": {
   "codemirror_mode": {
    "name": "ipython",
    "version": 3
   },
   "file_extension": ".py",
   "mimetype": "text/x-python",
   "name": "python",
   "nbconvert_exporter": "python",
   "pygments_lexer": "ipython3",
   "version": "3.10.12"
  }
 },
 "nbformat": 4,
 "nbformat_minor": 5
}
