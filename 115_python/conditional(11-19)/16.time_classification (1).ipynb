{
 "cells": [
  {
   "cell_type": "code",
   "execution_count": 2,
   "id": "f8fa23c9-cc98-4bf1-b784-8d96cc55dc10",
   "metadata": {},
   "outputs": [
    {
     "ename": "SyntaxError",
     "evalue": "expected ':' (796712336.py, line 5)",
     "output_type": "error",
     "traceback": [
      "\u001b[0;36m  Cell \u001b[0;32mIn[2], line 5\u001b[0;36m\u001b[0m\n\u001b[0;31m    else if time>=12 andtime<5:\u001b[0m\n\u001b[0m         ^\u001b[0m\n\u001b[0;31mSyntaxError\u001b[0m\u001b[0;31m:\u001b[0m expected ':'\n"
     ]
    }
   ],
   "source": [
    "time= float(input(\"enter the time in 24 hour format= \"))\n",
    "#Morning 5 am to 12 pm (noon) ; Afternoon 12 pm to 5 pm ; Evening 5 pm to 9 pm ; Night 9 pm to 4 am.\n",
    "if time>=5 and time<12:\n",
    "    print(\"Good Morning!\")\n",
    "elif time>=12 andtime<5:\n",
    "    print(\"Good Afternoon!\")\n",
    "elif time>=5 and time<8:\n",
    "    print(\"Good Evening!\")\n",
    "else:\n",
    "    print(\"Good Night\")\n"
   ]
  },
  {
   "cell_type": "code",
   "execution_count": null,
   "id": "9e498dcb-e826-4f3c-8fba-c296a6ff8f36",
   "metadata": {},
   "outputs": [],
   "source": []
  }
 ],
 "metadata": {
  "kernelspec": {
   "display_name": "Python 3 (ipykernel)",
   "language": "python",
   "name": "python3"
  },
  "language_info": {
   "codemirror_mode": {
    "name": "ipython",
    "version": 3
   },
   "file_extension": ".py",
   "mimetype": "text/x-python",
   "name": "python",
   "nbconvert_exporter": "python",
   "pygments_lexer": "ipython3",
   "version": "3.10.12"
  }
 },
 "nbformat": 4,
 "nbformat_minor": 5
}
