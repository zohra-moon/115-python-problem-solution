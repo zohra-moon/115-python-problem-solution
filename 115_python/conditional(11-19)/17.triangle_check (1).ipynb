{
 "cells": [
  {
   "cell_type": "code",
   "execution_count": 6,
   "id": "e5caaf54-53ad-4d50-8cfd-c5e7979f3a95",
   "metadata": {},
   "outputs": [
    {
     "name": "stdin",
     "output_type": "stream",
     "text": [
      "Enter the length of the 1st side of the triangle=  4.5\n",
      "Enter the length of the 2nd side of the triangle=  2.5\n",
      "Enter the length of the 3rd side of the triangle=  4.5\n"
     ]
    },
    {
     "name": "stdout",
     "output_type": "stream",
     "text": [
      "The triangle is Equilateral\n"
     ]
    }
   ],
   "source": [
    "A= float(input(\"Enter the length of the 1st side of the triangle= \"))\n",
    "B= float(input(\"Enter the length of the 2nd side of the triangle= \"))\n",
    "C= float(input(\"Enter the length of the 3rd side of the triangle= \"))\n",
    "if A==B and B==C:\n",
    "  print(\"The triangle is Isosceles\")\n",
    "elif A!=B and B!=C and A!=C:\n",
    "    print(\"The triangle is Scalene\")\n",
    "else:\n",
    "    print(\"The triangle is Equilateral\")\n",
    "    "
   ]
  },
  {
   "cell_type": "code",
   "execution_count": null,
   "id": "77226e2f-cfa0-4eaa-b88d-f226177862a8",
   "metadata": {},
   "outputs": [],
   "source": []
  }
 ],
 "metadata": {
  "kernelspec": {
   "display_name": "Python 3 (ipykernel)",
   "language": "python",
   "name": "python3"
  },
  "language_info": {
   "codemirror_mode": {
    "name": "ipython",
    "version": 3
   },
   "file_extension": ".py",
   "mimetype": "text/x-python",
   "name": "python",
   "nbconvert_exporter": "python",
   "pygments_lexer": "ipython3",
   "version": "3.10.12"
  }
 },
 "nbformat": 4,
 "nbformat_minor": 5
}
