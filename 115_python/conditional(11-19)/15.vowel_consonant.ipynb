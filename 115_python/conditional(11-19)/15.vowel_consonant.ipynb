{
 "cells": [
  {
   "cell_type": "code",
   "execution_count": 2,
   "id": "6445de9e-ccb2-410e-961c-d6ad35ee49fc",
   "metadata": {},
   "outputs": [
    {
     "name": "stdin",
     "output_type": "stream",
     "text": [
      "Enter The Alphabate h\n"
     ]
    },
    {
     "name": "stdout",
     "output_type": "stream",
     "text": [
      "h is a Consonant\n"
     ]
    }
   ],
   "source": [
    "alp = input(\"Enter The Alphabate\")\n",
    "if alp in ('a','e','i','o','u', 'A', 'E', 'I','O', 'U'):\n",
    "    print(alp, \"is a Vowel\")\n",
    "else:\n",
    "    print(alp, \"is a Consonant\")"
   ]
  },
  {
   "cell_type": "code",
   "execution_count": null,
   "id": "6f9d3db6-8771-4a70-ad0a-531e8476b450",
   "metadata": {},
   "outputs": [],
   "source": []
  }
 ],
 "metadata": {
  "kernelspec": {
   "display_name": "Python 3 (ipykernel)",
   "language": "python",
   "name": "python3"
  },
  "language_info": {
   "codemirror_mode": {
    "name": "ipython",
    "version": 3
   },
   "file_extension": ".py",
   "mimetype": "text/x-python",
   "name": "python",
   "nbconvert_exporter": "python",
   "pygments_lexer": "ipython3",
   "version": "3.10.12"
  }
 },
 "nbformat": 4,
 "nbformat_minor": 5
}
