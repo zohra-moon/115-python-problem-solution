{
 "cells": [
  {
   "cell_type": "code",
   "execution_count": 5,
   "id": "17d2046d-bf5a-435a-b9e4-ed928c27e4dd",
   "metadata": {},
   "outputs": [
    {
     "name": "stdout",
     "output_type": "stream",
     "text": [
      "tomato\n",
      "['spinach', 'pea']\n",
      "carrot\n"
     ]
    }
   ],
   "source": [
    "tup= (\"tomato\",\"spinach\",\"pea\", \"carrot\")\n",
    "red, *green, orange= tup\n",
    "print(red)\n",
    "print(green)\n",
    "print(orange)"
   ]
  },
  {
   "cell_type": "code",
   "execution_count": null,
   "id": "23d6a1cc-3853-4c6f-baa1-7ae5959e8cf6",
   "metadata": {},
   "outputs": [],
   "source": []
  }
 ],
 "metadata": {
  "kernelspec": {
   "display_name": "Python 3 (ipykernel)",
   "language": "python",
   "name": "python3"
  },
  "language_info": {
   "codemirror_mode": {
    "name": "ipython",
    "version": 3
   },
   "file_extension": ".py",
   "mimetype": "text/x-python",
   "name": "python",
   "nbconvert_exporter": "python",
   "pygments_lexer": "ipython3",
   "version": "3.10.12"
  }
 },
 "nbformat": 4,
 "nbformat_minor": 5
}
