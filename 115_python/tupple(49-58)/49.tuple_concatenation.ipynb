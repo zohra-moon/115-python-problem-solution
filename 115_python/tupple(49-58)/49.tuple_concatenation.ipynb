{
 "cells": [
  {
   "cell_type": "code",
   "execution_count": null,
   "id": "17d2046d-bf5a-435a-b9e4-ed928c27e4dd",
   "metadata": {},
   "outputs": [],
   "source": [
    "tup1=(1,2,3,\"google\", \"ai\")\n",
    "tup2=(4,5,6,100,[1,2,3], \"br"
   ]
  }
 ],
 "metadata": {
  "kernelspec": {
   "display_name": "Python 3 (ipykernel)",
   "language": "python",
   "name": "python3"
  },
  "language_info": {
   "codemirror_mode": {
    "name": "ipython",
    "version": 3
   },
   "file_extension": ".py",
   "mimetype": "text/x-python",
   "name": "python",
   "nbconvert_exporter": "python",
   "pygments_lexer": "ipython3",
   "version": "3.10.12"
  }
 },
 "nbformat": 4,
 "nbformat_minor": 5
}
