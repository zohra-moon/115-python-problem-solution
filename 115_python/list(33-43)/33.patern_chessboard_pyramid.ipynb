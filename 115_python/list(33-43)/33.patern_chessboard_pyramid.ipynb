{
 "cells": [
  {
   "cell_type": "code",
   "execution_count": 10,
   "id": "18e889ee-b709-4071-8403-2cfb4c99913f",
   "metadata": {},
   "outputs": [
    {
     "name": "stdout",
     "output_type": "stream",
     "text": [
      "    1 \n",
      "   2 2 \n",
      "  3 3 3 \n",
      " 4 4 4 4 \n",
      "5 5 5 5 5 \n"
     ]
    }
   ],
   "source": [
    "#number pyramid\n",
    "for i in range(1,6):\n",
    "     for j in range(6-i-1):\n",
    "        print(\" \",end=\"\")\n",
    "     for j in range(i):\n",
    "            print(i,end=\" \")\n",
    "     print()"
   ]
  },
  {
   "cell_type": "code",
   "execution_count": 29,
   "id": "1b90aa23-e722-4731-9df6-59a340b11b43",
   "metadata": {},
   "outputs": [
    {
     "name": "stdout",
     "output_type": "stream",
     "text": [
      "x 0 x 0 x 0 x 0 \n",
      "0 x 0 x 0 x 0 x \n",
      "x 0 x 0 x 0 x 0 \n",
      "0 x 0 x 0 x 0 x \n",
      "x 0 x 0 x 0 x 0 \n",
      "0 x 0 x 0 x 0 x \n",
      "x 0 x 0 x 0 x 0 \n",
      "0 x 0 x 0 x 0 x \n"
     ]
    }
   ],
   "source": [
    "#chessboard pattern\n",
    "for i in range(8):\n",
    "    for j in range(4):\n",
    "        if i%2==0:\n",
    "           print(\"x 0\", end=\" \")\n",
    "        else:\n",
    "           print(\"0 x\",end=\" \")\n",
    "    print()"
   ]
  },
  {
   "cell_type": "code",
   "execution_count": null,
   "id": "fb856fd4-32ec-4be1-b02b-1112ffdff170",
   "metadata": {},
   "outputs": [],
   "source": []
  }
 ],
 "metadata": {
  "kernelspec": {
   "display_name": "Python 3 (ipykernel)",
   "language": "python",
   "name": "python3"
  },
  "language_info": {
   "codemirror_mode": {
    "name": "ipython",
    "version": 3
   },
   "file_extension": ".py",
   "mimetype": "text/x-python",
   "name": "python",
   "nbconvert_exporter": "python",
   "pygments_lexer": "ipython3",
   "version": "3.10.12"
  }
 },
 "nbformat": 4,
 "nbformat_minor": 5
}
