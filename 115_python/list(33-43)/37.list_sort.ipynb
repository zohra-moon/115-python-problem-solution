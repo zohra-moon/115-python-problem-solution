{
 "cells": [
  {
   "cell_type": "code",
   "execution_count": 9,
   "id": "dd5f1942-4229-4b83-ba32-23c35ee1b86a",
   "metadata": {},
   "outputs": [
    {
     "name": "stdin",
     "output_type": "stream",
     "text": [
      "Enter the number of element in the list:  10\n",
      "Enter the element:  5\n",
      "Enter the element:  4\n",
      "Enter the element:  10\n",
      "Enter the element:  0\n",
      "Enter the element:  100\n",
      "Enter the element:  2\n",
      "Enter the element:  5\n",
      "Enter the element:  65\n",
      "Enter the element:  85\n",
      "Enter the element:  3\n"
     ]
    },
    {
     "name": "stdout",
     "output_type": "stream",
     "text": [
      "[0, 2, 3, 4, 5, 5, 10, 65, 85, 100]\n"
     ]
    }
   ],
   "source": [
    "n = int(input(\"Enter the number of element in the list: \"))\n",
    "li = list()\n",
    "for i in range(n):\n",
    "    element= int(input(\"Enter the element: \"))\n",
    "    li.append(element)\n",
    "    \n",
    "li.sort()\n",
    "print(\"the sorted list in\")"
   ]
  },
  {
   "cell_type": "code",
   "execution_count": null,
   "id": "d7298572-c103-4d2a-a95e-6e9f9b31afbd",
   "metadata": {},
   "outputs": [],
   "source": []
  }
 ],
 "metadata": {
  "kernelspec": {
   "display_name": "Python 3 (ipykernel)",
   "language": "python",
   "name": "python3"
  },
  "language_info": {
   "codemirror_mode": {
    "name": "ipython",
    "version": 3
   },
   "file_extension": ".py",
   "mimetype": "text/x-python",
   "name": "python",
   "nbconvert_exporter": "python",
   "pygments_lexer": "ipython3",
   "version": "3.10.12"
  }
 },
 "nbformat": 4,
 "nbformat_minor": 5
}
