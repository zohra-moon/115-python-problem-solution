{
 "cells": [
  {
   "cell_type": "code",
   "execution_count": 3,
   "id": "dd5f1942-4229-4b83-ba32-23c35ee1b86a",
   "metadata": {},
   "outputs": [
    {
     "name": "stdout",
     "output_type": "stream",
     "text": [
      "The average of the numbers is:  18.8\n"
     ]
    }
   ],
   "source": [
    "li = [1,3,4,8,9,76,9,10,50,18]\n",
    "\n",
    "Sum= sum(li)\n",
    "Min= min(li)\n",
    "Max= max(li)\n",
    "Avg= Sum/ len(li)\n",
    "\n",
    "print(\"The sum of the numbers is: \",Sum)\n",
    "print(\"The minimum element is: \", Min)\n",
    "print(\"The maximum element is: \", Max)\n",
    "print(\"The average of the numbers is: \", Avg)\n"
   ]
  },
  {
   "cell_type": "code",
   "execution_count": null,
   "id": "d7298572-c103-4d2a-a95e-6e9f9b31afbd",
   "metadata": {},
   "outputs": [],
   "source": []
  }
 ],
 "metadata": {
  "kernelspec": {
   "display_name": "Python 3 (ipykernel)",
   "language": "python",
   "name": "python3"
  },
  "language_info": {
   "codemirror_mode": {
    "name": "ipython",
    "version": 3
   },
   "file_extension": ".py",
   "mimetype": "text/x-python",
   "name": "python",
   "nbconvert_exporter": "python",
   "pygments_lexer": "ipython3",
   "version": "3.10.12"
  }
 },
 "nbformat": 4,
 "nbformat_minor": 5
}
