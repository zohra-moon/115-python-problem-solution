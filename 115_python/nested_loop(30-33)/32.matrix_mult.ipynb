{
 "cells": [
  {
   "cell_type": "code",
   "execution_count": 7,
   "id": "b0b5744b-a674-42e3-aad2-c2eccda39e58",
   "metadata": {},
   "outputs": [
    {
     "name": "stdout",
     "output_type": "stream",
     "text": [
      "[102, 81, 60]\n",
      "[118, 104, 90]\n",
      "[37, 41, 45]\n"
     ]
    }
   ],
   "source": [
    "x= [[1,5,9],\n",
    "   [5,8,9],\n",
    "   [7,3,2]]\n",
    "y= [[1,2,3],\n",
    "   [4,5,6],\n",
    "   [9,6,3]]\n",
    "result= [[0,0,0],\n",
    "        [0,0,0],\n",
    "        [0,0,0]]\n",
    "\n",
    "for i in range(len(x)):\n",
    "    for j in range(len(y[0])):\n",
    "        for k in range(len(y)):\n",
    "            result[i][j]+= x[i][k] * y[k][j]\n",
    "for r in result:\n",
    "    print(r)"
   ]
  },
  {
   "cell_type": "code",
   "execution_count": null,
   "id": "239bc7e9-5b93-403a-9b7a-1a21ffe9cac4",
   "metadata": {},
   "outputs": [],
   "source": []
  }
 ],
 "metadata": {
  "kernelspec": {
   "display_name": "Python 3 (ipykernel)",
   "language": "python",
   "name": "python3"
  },
  "language_info": {
   "codemirror_mode": {
    "name": "ipython",
    "version": 3
   },
   "file_extension": ".py",
   "mimetype": "text/x-python",
   "name": "python",
   "nbconvert_exporter": "python",
   "pygments_lexer": "ipython3",
   "version": "3.10.12"
  }
 },
 "nbformat": 4,
 "nbformat_minor": 5
}
