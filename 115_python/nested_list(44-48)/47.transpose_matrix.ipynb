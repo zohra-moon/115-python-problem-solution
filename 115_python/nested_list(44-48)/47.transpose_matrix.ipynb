{
 "cells": [
  {
   "cell_type": "code",
   "execution_count": 8,
   "id": "46be9074-5ce4-4fc6-8eeb-8072f1ba0433",
   "metadata": {},
   "outputs": [
    {
     "name": "stdout",
     "output_type": "stream",
     "text": [
      "[[1, 2, 4], [2, 5, 6], [3, 4, 7], [4, 6, 0]]\n"
     ]
    }
   ],
   "source": [
    "matrix =[[1,2,3,4],\n",
    "         [2,5,4,6],\n",
    "         [4,6,7,0]]\n",
    "transpose = [[0,0,0],\n",
    "             [0,0,0],\n",
    "             [0,0,0],\n",
    "             [0,0,0]]\n",
    "for i in range(len(matrix)):\n",
    "   for j in range(len(matrix[0])):\n",
    "        transpose[j][i]= matrix[i][j]\n",
    "for r in transpose\n",
    "print(r)"
   ]
  },
  {
   "cell_type": "code",
   "execution_count": null,
   "id": "0e5eca66-560c-43f9-ba16-00b748dfb1f0",
   "metadata": {},
   "outputs": [],
   "source": []
  },
  {
   "cell_type": "code",
   "execution_count": null,
   "id": "9b160cb9-b185-4d44-9f1b-ae1014d37197",
   "metadata": {},
   "outputs": [],
   "source": []
  }
 ],
 "metadata": {
  "kernelspec": {
   "display_name": "Python 3 (ipykernel)",
   "language": "python",
   "name": "python3"
  },
  "language_info": {
   "codemirror_mode": {
    "name": "ipython",
    "version": 3
   },
   "file_extension": ".py",
   "mimetype": "text/x-python",
   "name": "python",
   "nbconvert_exporter": "python",
   "pygments_lexer": "ipython3",
   "version": "3.10.12"
  }
 },
 "nbformat": 4,
 "nbformat_minor": 5
}
