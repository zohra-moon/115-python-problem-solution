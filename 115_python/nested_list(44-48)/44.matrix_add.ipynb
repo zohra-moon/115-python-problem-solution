{
 "cells": [
  {
   "cell_type": "code",
   "execution_count": 5,
   "id": "577d0cda-5d9b-43ca-81fc-c255c0cd9a36",
   "metadata": {},
   "outputs": [
    {
     "name": "stdout",
     "output_type": "stream",
     "text": [
      "[2, 7, 12]\n",
      "[9, 13, 15]\n",
      "[16, 9, 5]\n"
     ]
    }
   ],
   "source": [
    "x= [[1,5,9],\n",
    "   [5,8,9],\n",
    "   [7,3,2]]\n",
    "y= [[1,2,3],\n",
    "   [4,5,6],\n",
    "   [9,6,3]]\n",
    "result= [[0,0,0],\n",
    "        [0,0,0],\n",
    "        [0,0,0]]\n",
    "\n",
    "for i in range(len(x)):\n",
    "    for j in range(len(y[0])):\n",
    "        result[i][j]= x[i][j]+y[i][j]\n",
    "for r in result:\n",
    "    print(r)"
   ]
  },
  {
   "cell_type": "code",
   "execution_count": null,
   "id": "3414c6ee-9dcd-425e-8e63-ad37be8c9838",
   "metadata": {},
   "outputs": [],
   "source": []
  }
 ],
 "metadata": {
  "kernelspec": {
   "display_name": "Python 3 (ipykernel)",
   "language": "python",
   "name": "python3"
  },
  "language_info": {
   "codemirror_mode": {
    "name": "ipython",
    "version": 3
   },
   "file_extension": ".py",
   "mimetype": "text/x-python",
   "name": "python",
   "nbconvert_exporter": "python",
   "pygments_lexer": "ipython3",
   "version": "3.10.12"
  }
 },
 "nbformat": 4,
 "nbformat_minor": 5
}
