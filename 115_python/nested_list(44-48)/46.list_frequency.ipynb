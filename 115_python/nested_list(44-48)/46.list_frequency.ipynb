{
 "cells": [
  {
   "cell_type": "code",
   "execution_count": 4,
   "id": "46be9074-5ce4-4fc6-8eeb-8072f1ba0433",
   "metadata": {},
   "outputs": [
    {
     "name": "stdout",
     "output_type": "stream",
     "text": [
      "{1: 2, 2: 3, 3: 1, 5: 1, 4: 2, 6: 1, 7: 1, 9: 1}\n"
     ]
    }
   ],
   "source": [
    "list1=[[1,2,3],[2,5,4],[4,6,7],[1,2,9]]\n",
    "list2= [num for sublist in list1 for num in sublist]\n",
    "freq={}\n",
    "for i in list2:\n",
    "    if i in freq :\n",
    "        freq[i]+=1\n",
    "    else:\n",
    "        freq[i]=1\n",
    "print(freq)"
   ]
  },
  {
   "cell_type": "code",
   "execution_count": null,
   "id": "0e5eca66-560c-43f9-ba16-00b748dfb1f0",
   "metadata": {},
   "outputs": [],
   "source": []
  }
 ],
 "metadata": {
  "kernelspec": {
   "display_name": "Python 3 (ipykernel)",
   "language": "python",
   "name": "python3"
  },
  "language_info": {
   "codemirror_mode": {
    "name": "ipython",
    "version": 3
   },
   "file_extension": ".py",
   "mimetype": "text/x-python",
   "name": "python",
   "nbconvert_exporter": "python",
   "pygments_lexer": "ipython3",
   "version": "3.10.12"
  }
 },
 "nbformat": 4,
 "nbformat_minor": 5
}
